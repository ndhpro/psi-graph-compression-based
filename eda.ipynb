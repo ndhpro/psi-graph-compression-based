{
 "metadata": {
  "language_info": {
   "codemirror_mode": {
    "name": "ipython",
    "version": 3
   },
   "file_extension": ".py",
   "mimetype": "text/x-python",
   "name": "python",
   "nbconvert_exporter": "python",
   "pygments_lexer": "ipython3",
   "version": "3.8.0-final"
  },
  "orig_nbformat": 2,
  "kernelspec": {
   "name": "python38064bitpyenvpyenv46dcf36814454943acb3da4d8af3ef1e",
   "display_name": "Python 3.8.0 64-bit ('.pyenv': pyenv)",
   "language": "python"
  }
 },
 "nbformat": 4,
 "nbformat_minor": 2,
 "cells": [
  {
   "cell_type": "code",
   "execution_count": null,
   "metadata": {},
   "outputs": [],
   "source": [
    "import networkx as nx\n",
    "from glob import glob\n",
    "from tqdm import tqdm\n",
    "from joblib import Parallel, delayed\n",
    "from multiprocessing import cpu_count"
   ]
  },
  {
   "cell_type": "code",
   "execution_count": null,
   "metadata": {},
   "outputs": [],
   "source": [
    "paths = glob('data/psi_graph/*/*.txt')\n",
    "\n",
    "def run(path):\n",
    "    graph = nx.MultiDiGraph()\n",
    "    with open(path, 'r') as f:\n",
    "        lines = f.readlines()\n",
    "    for line in lines[2:]:\n",
    "        edge = line.split()\n",
    "        if len(edge) == 2:\n",
    "            graph.add_edge(*edge)\n",
    "    node_len = len(graph.nodes)\n",
    "    if node_len < 10:\n",
    "        return 1\n",
    "    else:\n",
    "        return 0\n",
    "        \n",
    "out = Parallel(n_jobs=cpu_count())(delayed(run)(path) for path in tqdm(paths))\n",
    "print(sum(out))"
   ]
  },
  {
   "cell_type": "code",
   "execution_count": 22,
   "metadata": {},
   "outputs": [
    {
     "output_type": "stream",
     "name": "stdout",
     "text": [
      "done\n"
     ]
    }
   ],
   "source": [
    "import os\n",
    "paths = glob('data/subgraphs/*/*')\n",
    "\n",
    "def run(path):\n",
    "    if path.endswith('.edgelist.edgelist'):\n",
    "        os.remove(path)\n",
    "        \n",
    "out = Parallel(n_jobs=cpu_count())(delayed(run)(path) for path in paths)\n",
    "print('done')"
   ]
  },
  {
   "cell_type": "code",
   "execution_count": null,
   "metadata": {},
   "outputs": [],
   "source": []
  }
 ]
}